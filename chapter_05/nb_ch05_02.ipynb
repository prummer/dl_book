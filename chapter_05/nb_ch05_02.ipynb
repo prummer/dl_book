{
 "cells": [
  {
   "cell_type": "markdown",
   "metadata": {
    "colab_type": "text",
    "id": "J33av_vA1Y3m"
   },
   "source": [
    "# Modelling count data with Tensoflow Probability\n",
    "\n",
    "**Goal:** In this notebook you will again work with TFP. You will set up regression models that are able to output different conditional probability distributions to model count data. You will define different models with Keras, sklearn and the Tensorflow probability framework and optimize the negative log likelihood (NLL).\n",
    "You compare the performace of the Poisson regression vs. the linear regression on a test dataset. Finally, you will extend the Poisson model to the zero-inflated Poisson model and compare the NLL of all models.\n",
    "\n",
    "**Usage:** The idea of the notebook is that you try to understand the provided code by running it, checking the output and playing with it by slightly changing the code and rerunning it.\n",
    "\n",
    "**Dataset:** \n",
    "You work with a camper dataset form https://stats.idre.ucla.edu/r/dae/zip/. The dataset contains data on 250 groups that went to a park. Each group was questioned about how many fish they caught (count), how many children were in the group (child), how many people were in the group (persons), if they used a live bait  and whether or not they brought a camper to the park (camper).\n",
    "You split the data into train and test dataset.\n",
    "\n",
    "**Content:**\n",
    "* Work with different distributions in TFP: Normal, Poisson and zero-inflated Poisson\n",
    "* Load and split the camper dataset \n",
    "* Fit different regression models to the camper train dataset: linar regression, Poisson regression and zero-inflated Poisson regression\n",
    "* Plot the predicted probability distributions (CPD) for two specific datapoints along with their likelihood\n",
    "* Plot the testdata along with the predicted mean and the 2.5% and 97.5% percentiles of the predicted CPD\n",
    "* Compare the different models based on the test NLL \n",
    "\n",
    "| [open in colab](https://colab.research.google.com/github/tensorchiefs/dl_book/blob/master/chapter_05/nb_ch05_02.ipynb)\n"
   ]
  },
  {
   "cell_type": "code",
   "execution_count": 2,
   "metadata": {
    "colab": {},
    "colab_type": "code",
    "id": "Fv5u8wSX1Y3p"
   },
   "outputs": [],
   "source": [
    "try: #If running in colab \n",
    "    import google.colab\n",
    "    IN_COLAB = True \n",
    "    %tensorflow_version 2.x\n",
    "except:\n",
    "    IN_COLAB = False"
   ]
  },
  {
   "cell_type": "code",
   "execution_count": 3,
   "metadata": {
    "colab": {
     "base_uri": "https://localhost:8080/",
     "height": 35
    },
    "colab_type": "code",
    "id": "ZQM8G3oPd9GE",
    "outputId": "b5921d61-3436-498b-e657-15103112bfe1"
   },
   "outputs": [
    {
     "name": "stdout",
     "output_type": "stream",
     "text": [
      "Tensorflow version:  2.0.0  running in colab?:  False\n"
     ]
    }
   ],
   "source": [
    "import tensorflow as tf\n",
    "if (not tf.__version__.startswith('2')): #Checking if tf 2.0 is installed\n",
    "    print('Please install tensorflow 2.0 to run this notebook')\n",
    "print('Tensorflow version: ',tf.__version__, ' running in colab?: ', IN_COLAB)"
   ]
  },
  {
   "cell_type": "code",
   "execution_count": 4,
   "metadata": {
    "colab": {
     "base_uri": "https://localhost:8080/",
     "height": 124
    },
    "colab_type": "code",
    "id": "bPlT84Mqd9GZ",
    "outputId": "2ead57fd-8645-48ea-ea76-1b5bdb452611"
   },
   "outputs": [
    {
     "name": "stdout",
     "output_type": "stream",
     "text": [
      "Requirement already satisfied: tensorflow_probability==0.8.0 in c:\\users\\mprummer\\appdata\\local\\programs\\python\\python37\\lib\\site-packages (0.8.0)\n",
      "Requirement already satisfied: cloudpickle==1.1.1 in c:\\users\\mprummer\\appdata\\local\\programs\\python\\python37\\lib\\site-packages (from tensorflow_probability==0.8.0) (1.1.1)\n",
      "Requirement already satisfied: decorator in c:\\users\\mprummer\\appdata\\roaming\\python\\python37\\site-packages (from tensorflow_probability==0.8.0) (4.3.2)\n",
      "Requirement already satisfied: gast<0.3,>=0.2 in c:\\users\\mprummer\\appdata\\local\\programs\\python\\python37\\lib\\site-packages (from tensorflow_probability==0.8.0) (0.2.2)\n",
      "Requirement already satisfied: six>=1.10.0 in c:\\users\\mprummer\\appdata\\roaming\\python\\python37\\site-packages (from tensorflow_probability==0.8.0) (1.12.0)\n",
      "Requirement already satisfied: numpy>=1.13.3 in c:\\users\\mprummer\\appdata\\roaming\\python\\python37\\site-packages (from tensorflow_probability==0.8.0) (1.16.2)\n"
     ]
    },
    {
     "name": "stderr",
     "output_type": "stream",
     "text": [
      "WARNING: You are using pip version 19.2.3, however version 20.2.1 is available.\n",
      "You should consider upgrading via the 'python -m pip install --upgrade pip' command.\n"
     ]
    }
   ],
   "source": [
    "!pip install tensorflow_probability==0.8.0"
   ]
  },
  {
   "cell_type": "markdown",
   "metadata": {
    "colab_type": "text",
    "id": "DOhO_5Pt-N9E"
   },
   "source": [
    "#### Imports"
   ]
  },
  {
   "cell_type": "code",
   "execution_count": 5,
   "metadata": {
    "colab": {
     "base_uri": "https://localhost:8080/",
     "height": 52
    },
    "colab_type": "code",
    "id": "WLP-37UY1Y31",
    "outputId": "ca4cfe36-0828-4391-d4e9-a6cd882b59e1"
   },
   "outputs": [
    {
     "name": "stdout",
     "output_type": "stream",
     "text": [
      "TFP Version 0.8.0\n",
      "TF  Version 2.0.0\n"
     ]
    }
   ],
   "source": [
    "import matplotlib.pyplot as plt\n",
    "import numpy as np\n",
    "from sklearn.model_selection import train_test_split\n",
    "import tensorflow_probability as tfp\n",
    "\n",
    "%matplotlib inline\n",
    "plt.style.use('default')\n",
    "\n",
    "tfd = tfp.distributions\n",
    "tfb = tfp.bijectors\n",
    "print(\"TFP Version\", tfp.__version__)\n",
    "print(\"TF  Version\",tf.__version__)\n",
    "np.random.seed(42)\n",
    "tf.random.set_seed(42)"
   ]
  },
  {
   "cell_type": "markdown",
   "metadata": {
    "colab_type": "text",
    "id": "ecQD6xNF1Y38"
   },
   "source": [
    "### Working with a TFP Poisson distribution\n",
    "\n",
    "Here you can see a small example how to work with a Poisson distribution in TFP. The Poisson distribution has only one parameter, often called $\\lambda$ or rate, which defines the mean and the variance of the distribution. We set the rate $\\lambda$ to 2, and plot the probability distribution for the values 0 to 10. Below in the notebook you will define a model to learn this parameter.\n",
    "\n",
    "#### Listing 5.5: The Poisson Distribution in TFP \n"
   ]
  },
  {
   "cell_type": "code",
   "execution_count": 6,
   "metadata": {
    "colab": {
     "base_uri": "https://localhost:8080/",
     "height": 540
    },
    "colab_type": "code",
    "id": "NMzlJ8mO1Y39",
    "outputId": "2afe9a8b-012f-4d7c-bd2a-6ccab2dfa27d"
   },
   "outputs": [
    {
     "name": "stdout",
     "output_type": "stream",
     "text": [
      "2.0\n",
      "1.4142135\n"
     ]
    },
    {
     "data": {
      "image/png": "[encoded data removed]",
      "text/plain": [
       "<Figure size 432x288 with 1 Axes>"
      ]
     },
     "metadata": {
      "needs_background": "light"
     },
     "output_type": "display_data"
    }
   ],
   "source": [
    "dist = tfd.poisson.Poisson(rate = 2) #A\n",
    "vals = np.linspace(0,10,11) #B\n",
    "p = dist.prob(vals) #C\n",
    "print(dist.mean().numpy())  #D\n",
    "print(dist.stddev().numpy())   #E\n",
    "\n",
    "plt.xticks(vals)\n",
    "plt.stem(vals, p)\n",
    "plt.xlabel('Number of Events')\n",
    "plt.ylabel('Probability')\n",
    "plt.show()\n",
    "\n",
    "#A Poisson distribution with parameter rate = 2\n",
    "#B Integer values from 0 to 10 for the x-axis \n",
    "#C Computes the probability for the values\n",
    "#D The mean value yielding 2.0\n",
    "#E The standard deviation yielding sqrt(2.0) = 1.41...\n"
   ]
  },
  {
   "cell_type": "markdown",
   "metadata": {
    "colab_type": "text",
    "id": "18dtcjMG1Y4E"
   },
   "source": [
    "### Loading real count data\n",
    "\n",
    "Here you load the camper data from: https://stats.idre.ucla.edu/r/dae/zip/. The traget variable is the number of fish caught, during a state park visit by a group. You have data of 250 groups that went to the park. Each group was questioned about how many fish they caught (count), how many children were in the group (child), how many people were in the group (persons), if they used a live bait (livebait) and whether or not they brought a camper to the park (camper). This will be the features.\n",
    "You randomly split the data into train and test dataset (80% train and 20% test)."
   ]
  },
  {
   "cell_type": "code",
   "execution_count": 7,
   "metadata": {
    "colab": {},
    "colab_type": "code",
    "id": "eQuwzZUj1Y4L"
   },
   "outputs": [],
   "source": [
    "# The Fish Data Set\n",
    "# See example 2 from https://stats.idre.ucla.edu/r/dae/zip/ \n",
    "#\"nofish\",\"livebait\",\"camper\",\"persons\",\"child\",\"xb\",\"zg\",\"count\"\n",
    "dat = np.loadtxt('https://raw.githubusercontent.com/tensorchiefs/dl_book/master/data/fish.csv',delimiter=',', skiprows=1)\n",
    "X = dat[...,1:5] #\"livebait\",\"camper\",\"persons\",\"child\n",
    "y = dat[...,7]\n",
    "X=np.array(X,dtype=\"float32\")\n",
    "y=np.array(y,dtype=\"float32\")"
   ]
  },
  {
   "cell_type": "code",
   "execution_count": 7,
   "metadata": {
    "colab": {},
    "colab_type": "code",
    "id": "_58wisLu1Y4S"
   },
   "outputs": [],
   "source": [
    "# Uncomment the next line, to enhance the ZIP model (see below why you would like to do it)\n",
    "# n = len(y)\n",
    "# idx = np.random.permutation(n)[0:int(n*0.3)] \n",
    "# y[idx] = 0"
   ]
  },
  {
   "cell_type": "markdown",
   "metadata": {
    "colab_type": "text",
    "id": "ILaYEVVnBN3F"
   },
   "source": [
    "Let's split the data and look at the counts (how many fish each group caught).\n"
   ]
  },
  {
   "cell_type": "code",
   "execution_count": 8,
   "metadata": {
    "colab": {
     "base_uri": "https://localhost:8080/",
     "height": 141
    },
    "colab_type": "code",
    "id": "RCdA9LKL1Y4Y",
    "outputId": "0d76977e-3255-484b-c9d3-4ee71ca9c990"
   },
   "outputs": [
    {
     "data": {
      "text/plain": [
       "((200, 4),\n",
       " (200,),\n",
       " (50, 4),\n",
       " (50,),\n",
       " (250, 8),\n",
       " array([0., 0., 2., 2., 0., 0., 0., 0., 1., 0.], dtype=float32),\n",
       " array([ 6.,  1.,  6.,  1.,  3.,  1.,  0., 15.,  0.,  2.], dtype=float32))"
      ]
     },
     "execution_count": 8,
     "metadata": {},
     "output_type": "execute_result"
    }
   ],
   "source": [
    "X_train, X_test, y_train, y_test = train_test_split(X, y, test_size=0.2, random_state=42,shuffle=True)\n",
    "d = X_train.shape[1]\n",
    "X_train.shape, y_train.shape, X_test.shape, y_test.shape,dat.shape, y_test[0:10], y_train[0:10]"
   ]
  },
  {
   "cell_type": "markdown",
   "metadata": {
    "colab_type": "text",
    "id": "vTcHrKJVByqM"
   },
   "source": [
    "In the following we will look at the number of fish each group caught. "
   ]
  },
  {
   "cell_type": "code",
   "execution_count": 9,
   "metadata": {
    "colab": {
     "base_uri": "https://localhost:8080/",
     "height": 595
    },
    "colab_type": "code",
    "id": "RVqCbgQZ1Y4e",
    "outputId": "b124b6ef-235a-402a-a34d-4cd7be80f22c",
    "scrolled": false
   },
   "outputs": [
    {
     "data": {
      "image/png": "[encoded data removed]",
      "text/plain": [
       "<Figure size 1008x360 with 2 Axes>"
      ]
     },
     "metadata": {
      "needs_background": "light"
     },
     "output_type": "display_data"
    },
    {
     "data": {
      "text/plain": [
       "149.0"
      ]
     },
     "execution_count": 9,
     "metadata": {},
     "output_type": "execute_result"
    }
   ],
   "source": [
    "plt.figure(figsize=(14,5))\n",
    "\n",
    "vals, counts = np.unique(y_train, return_counts=True)\n",
    "plt.subplot(1,2,1)\n",
    "plt.stem(vals, counts)\n",
    "plt.xlabel('Count: number of fish caught')\n",
    "plt.ylabel('Frequency')\n",
    "plt.title('Distribution of number of fish caught in training')\n",
    "\n",
    "plt.subplot(1,2,2)\n",
    "plt.stem(vals, counts)\n",
    "plt.xlabel('Count: number of fish caught')\n",
    "plt.ylabel('Frequency')\n",
    "plt.xlim(-1,10)\n",
    "plt.title('Zoomed distribution of number of fish caught in training')\n",
    "plt.show()\n",
    "\n",
    "np.max(y_train)"
   ]
  },
  {
   "cell_type": "markdown",
   "metadata": {
    "colab_type": "text",
    "id": "fWdfVAeiPhMP"
   },
   "source": [
    "You see that most of the groups didn't catch any fish at all. Most of the groups were not very successful, but there is one group that was very successful and caught 149 fish!"
   ]
  },
  {
   "cell_type": "markdown",
   "metadata": {
    "colab_type": "text",
    "id": "T2LZ1O7SPyZe"
   },
   "source": [
    "Lets pick the two test observations 31 and 33, which you will investigate in the following. "
   ]
  },
  {
   "cell_type": "code",
   "execution_count": 10,
   "metadata": {
    "colab": {
     "base_uri": "https://localhost:8080/",
     "height": 88
    },
    "colab_type": "code",
    "id": "lNnxCICNwElp",
    "outputId": "0fb4380a-91d2-4b4f-b581-94a17bb18a08"
   },
   "outputs": [
    {
     "name": "stdout",
     "output_type": "stream",
     "text": [
      "[1. 1. 4. 1.]\n",
      "[1. 0. 4. 2.]\n",
      "5.0\n",
      "0.0\n"
     ]
    }
   ],
   "source": [
    "print(X_test[31])#\"livebait\",\"camper\",\"persons\",\"child\n",
    "print(X_test[33])#\"livebait\",\"camper\",\"persons\",\"child\n",
    "print(y_test[31])#\"number of caught fish\n",
    "print(y_test[33])#\"number of caught fish"
   ]
  },
  {
   "cell_type": "markdown",
   "metadata": {
    "colab_type": "text",
    "id": "MAzV_poQQLqe"
   },
   "source": [
    "Group 31 used livebait, had a camper and were 4 persons with one child. They caught 5 fish.  \n",
    "Group 33 used livebait, didn't have a camper and were 4 persons with two childern. They caught 0 fish."
   ]
  },
  {
   "cell_type": "markdown",
   "metadata": {
    "colab_type": "text",
    "id": "QeOx8Gk91Y4l"
   },
   "source": [
    "## Linear regression with constant variance\n",
    "\n",
    "In the next few cells you will ignore the fact that you are dealing with count data here and just fit a linear regression model with constant variance to the data. You will fist do this with sklearn and then with keras. You will use the standart MSE loss and calculate the optimal standart deviation to minimize the NLL. Finally, you predict the test data and compare the performance with the RSME, MAE and the NLL. "
   ]
  },
  {
   "cell_type": "markdown",
   "metadata": {
    "colab_type": "text",
    "id": "Y2jVnNH71Y4m"
   },
   "source": [
    "### Linear regression with sklearn \n",
    " \n",
    "Let's fist fit the linear regression with sklean on the training data."
   ]
  },
  {
   "cell_type": "code",
   "execution_count": 13,
   "metadata": {
    "colab": {},
    "colab_type": "code",
    "id": "kl72JqqH1Y4o"
   },
   "outputs": [],
   "source": [
    "# The linear regression using non deep learning methods\n",
    "# These methods have no problem with convergence \n",
    "from sklearn.linear_model import LinearRegression\n",
    "model_skl = LinearRegression()\n",
    "res = model_skl.fit(X_train, y_train)"
   ]
  },
  {
   "cell_type": "markdown",
   "metadata": {
    "colab_type": "text",
    "id": "43AlkxLU1Y4w"
   },
   "source": [
    "In linear regression, we assuming that the $\\sigma$ is constant. To calculate the NLL, we need to estimate this quantity from the training data. The prediction is of course done on the testdata. Note that we calculate the mean  test NLL."
   ]
  },
  {
   "cell_type": "code",
   "execution_count": 14,
   "metadata": {
    "colab": {
     "base_uri": "https://localhost:8080/",
     "height": 132
    },
    "colab_type": "code",
    "id": "aZrTcLWA1Y4z",
    "outputId": "f4c8ad47-f3d4-4440-d7fd-23c841b86ccd"
   },
   "outputs": [
    {
     "name": "stdout",
     "output_type": "stream",
     "text": [
      "Estimated variance  118.45403393832119\n",
      "Estimated standart deviation  10.883659032619553\n",
      "NLL on training: 3.801201024145479\n"
     ]
    },
    {
     "data": {
      "text/html": [
       "<div>\n",
       "<style scoped>\n",
       "    .dataframe tbody tr th:only-of-type {\n",
       "        vertical-align: middle;\n",
       "    }\n",
       "\n",
       "    .dataframe tbody tr th {\n",
       "        vertical-align: top;\n",
       "    }\n",
       "\n",
       "    .dataframe thead th {\n",
       "        text-align: right;\n",
       "    }\n",
       "</style>\n",
       "<table border=\"1\" class=\"dataframe\">\n",
       "  <thead>\n",
       "    <tr style=\"text-align: right;\">\n",
       "      <th></th>\n",
       "      <th>RMSE</th>\n",
       "      <th>MAE</th>\n",
       "      <th>NLL (mean)</th>\n",
       "    </tr>\n",
       "  </thead>\n",
       "  <tbody>\n",
       "    <tr>\n",
       "      <th>Linear Regression (sklearn)</th>\n",
       "      <td>8.588127</td>\n",
       "      <td>4.705091</td>\n",
       "      <td>3.617528</td>\n",
       "    </tr>\n",
       "  </tbody>\n",
       "</table>\n",
       "</div>"
      ],
      "text/plain": [
       "                                 RMSE       MAE  NLL (mean)\n",
       "Linear Regression (sklearn)  8.588127  4.705091    3.617528"
      ]
     },
     "execution_count": 14,
     "metadata": {},
     "output_type": "execute_result"
    }
   ],
   "source": [
    "import pandas as pd\n",
    "# Calculation of the the optimal sigma \n",
    "y_hat_train = model_skl.predict(X_train)\n",
    "n = len(y_hat_train)\n",
    "sigma_hat_2 = (n-1.)/(n-2.) * np.var(y_train - y_hat_train.flatten(),ddof=1)\n",
    "print('Estimated variance ', sigma_hat_2)\n",
    "print('Estimated standart deviation ', np.sqrt(sigma_hat_2))\n",
    "\n",
    "y_hat = model_skl.predict(X_test) #Prediction on the testset\n",
    "RMSE_skl = np.sqrt(np.mean((y_test - y_hat.flatten())**2))\n",
    "MAE_skl = np.mean(np.abs(y_test- y_hat.flatten())) \n",
    "\n",
    "NLL_skl =  0.5*np.log(2 * np.pi * sigma_hat_2) + 0.5*np.mean((y_test - y_hat.flatten())**2)/sigma_hat_2\n",
    "print('NLL on training:', 0.5*np.log(2 * np.pi * sigma_hat_2) + 0.5*np.mean((y_train - y_hat_train.flatten())**2)/sigma_hat_2)\n",
    "\n",
    "df1 = pd.DataFrame(\n",
    "          {'RMSE' : RMSE_skl, 'MAE' : MAE_skl, 'NLL (mean)' : NLL_skl}, index=['Linear Regression (sklearn)']\n",
    ")\n",
    "df1"
   ]
  },
  {
   "cell_type": "markdown",
   "metadata": {
    "colab_type": "text",
    "id": "AxwxHcV_1Y4_"
   },
   "source": [
    "### Linear regression with Keras \n",
    " \n",
    "Let's do the same as before with sklearn, but this time you fit a linear regression  model with keras.\n",
    "You have 4 inputs (child , persons livebait, camper) and 1 output (count). Note that you'll use the standart MSE loss."
   ]
  },
  {
   "cell_type": "code",
   "execution_count": 15,
   "metadata": {
    "colab": {},
    "colab_type": "code",
    "id": "J8oUGFcK1Y5C"
   },
   "outputs": [],
   "source": [
    "from tensorflow.keras import Sequential, Model\n",
    "from tensorflow.keras.layers import Dense, Input \n",
    "from tensorflow.keras.optimizers import Adam\n",
    "\n",
    "model_lr = Sequential() \n",
    "model_lr.add(Dense(1,input_dim=d, activation='linear')) \n",
    "model_lr.compile(loss='mean_squared_error',optimizer=Adam(learning_rate=0.01))"
   ]
  },
  {
   "cell_type": "code",
   "execution_count": 16,
   "metadata": {
    "colab": {},
    "colab_type": "code",
    "id": "7bZZMADo1Y5K"
   },
   "outputs": [],
   "source": [
    "hist_lr = model_lr.fit(x=X_train, y=y_train, validation_data=(X_test, y_test), epochs=5000, verbose=0, batch_size=len(y_train))"
   ]
  },
  {
   "cell_type": "code",
   "execution_count": 17,
   "metadata": {
    "colab": {
     "base_uri": "https://localhost:8080/",
     "height": 449
    },
    "colab_type": "code",
    "id": "Eo4VNK9J1Y5R",
    "outputId": "a153beab-d98c-4a5d-e947-97c4e2d452bb"
   },
   "outputs": [
    {
     "data": {
      "image/png": "[encoded data removed]",
      "text/plain": [
       "<Figure size 432x288 with 1 Axes>"
      ]
     },
     "metadata": {
      "needs_background": "light"
     },
     "output_type": "display_data"
    }
   ],
   "source": [
    "plt.plot(hist_lr.history['loss']) #Note this is the MSE and not the RMSE\n",
    "plt.plot(hist_lr.history['val_loss'])\n",
    "plt.legend(['loss', 'val_loss'])\n",
    "plt.ylabel('MSE')\n",
    "plt.xlabel('Epochs')\n",
    "plt.show()"
   ]
  },
  {
   "cell_type": "markdown",
   "metadata": {
    "colab_type": "text",
    "id": "kzvS6_dEV7K2"
   },
   "source": [
    "#### Evaluation of the Performance \n"
   ]
  },
  {
   "cell_type": "code",
   "execution_count": 18,
   "metadata": {
    "colab": {
     "base_uri": "https://localhost:8080/",
     "height": 162
    },
    "colab_type": "code",
    "id": "Qyzmr9jLKJiK",
    "outputId": "d05a2a71-d842-4348-aa46-d8b35b797c6f"
   },
   "outputs": [
    {
     "name": "stdout",
     "output_type": "stream",
     "text": [
      "Estimated variance  118.45402627039437\n",
      "Estimated standart deviation  10.883658680351676\n",
      "NLL on training: 3.8012009916177805\n"
     ]
    },
    {
     "data": {
      "text/html": [
       "<div>\n",
       "<style scoped>\n",
       "    .dataframe tbody tr th:only-of-type {\n",
       "        vertical-align: middle;\n",
       "    }\n",
       "\n",
       "    .dataframe tbody tr th {\n",
       "        vertical-align: top;\n",
       "    }\n",
       "\n",
       "    .dataframe thead th {\n",
       "        text-align: right;\n",
       "    }\n",
       "</style>\n",
       "<table border=\"1\" class=\"dataframe\">\n",
       "  <thead>\n",
       "    <tr style=\"text-align: right;\">\n",
       "      <th></th>\n",
       "      <th>RMSE</th>\n",
       "      <th>MAE</th>\n",
       "      <th>NLL (mean)</th>\n",
       "    </tr>\n",
       "  </thead>\n",
       "  <tbody>\n",
       "    <tr>\n",
       "      <th>Linear Regression (sklearn)</th>\n",
       "      <td>8.588127</td>\n",
       "      <td>4.705091</td>\n",
       "      <td>3.617528</td>\n",
       "    </tr>\n",
       "    <tr>\n",
       "      <th>Linear Regression (MSE Keras)</th>\n",
       "      <td>8.588128</td>\n",
       "      <td>4.705087</td>\n",
       "      <td>3.617528</td>\n",
       "    </tr>\n",
       "  </tbody>\n",
       "</table>\n",
       "</div>"
      ],
      "text/plain": [
       "                                   RMSE       MAE  NLL (mean)\n",
       "Linear Regression (sklearn)    8.588127  4.705091    3.617528\n",
       "Linear Regression (MSE Keras)  8.588128  4.705087    3.617528"
      ]
     },
     "execution_count": 18,
     "metadata": {},
     "output_type": "execute_result"
    }
   ],
   "source": [
    "# Calculation of the the optimal sigma \n",
    "y_hat_train = model_lr.predict(X_train)\n",
    "sigma_hat_2 = (n-1.)/(n-2.) * np.var(y_train - y_hat_train.flatten(),ddof=1)\n",
    "print('Estimated variance ', sigma_hat_2)\n",
    "print('Estimated standart deviation ', np.sqrt(sigma_hat_2))\n",
    "\n",
    "y_hat = model_lr.predict(X_test) #Prediction on the testset\n",
    "RMSE_lr = np.sqrt(np.mean((y_test - y_hat.flatten())**2))\n",
    "MAE_lr = np.mean(np.abs(y_test - y_hat.flatten())) \n",
    "\n",
    "NLL_lr =  0.5*np.log(2 * np.pi * sigma_hat_2) + 0.5*np.mean((y_test - y_hat.flatten())**2)/sigma_hat_2\n",
    "print('NLL on training:', 0.5*np.log(2 * np.pi * sigma_hat_2) + 0.5*np.mean((y_train - y_hat_train.flatten())**2)/sigma_hat_2)\n",
    "\n",
    "df2 = pd.DataFrame(\n",
    "          {'RMSE' : RMSE_lr, 'MAE' : MAE_lr, 'NLL (mean)' : NLL_lr}, index=['Linear Regression (MSE Keras)']\n",
    ")\n",
    "pd.concat([df1,df2])"
   ]
  },
  {
   "cell_type": "markdown",
   "metadata": {
    "colab_type": "text",
    "id": "OTrEASJJ1Y5f"
   },
   "source": [
    "In the pandas dataframe above you see that the RMSE, MAE and the NLL are same. In the next cell you are comparing the coefficients of the keras and sklearn linear regression models. As you can see you get the same results! "
   ]
  },
  {
   "cell_type": "code",
   "execution_count": 19,
   "metadata": {
    "colab": {
     "base_uri": "https://localhost:8080/",
     "height": 88
    },
    "colab_type": "code",
    "id": "O_KZ6MI81Y5h",
    "outputId": "c03b1a58-7e9e-4e98-b62c-9bd13db24f69"
   },
   "outputs": [
    {
     "name": "stdout",
     "output_type": "stream",
     "text": [
      "weights using deep learning:           [ 2.482187   2.954299   4.6495247 -5.471593 ]\n",
      "weights from sklearn:                  [ 2.4822128  2.9543095  4.6495404 -5.4716005]\n",
      "Intercept (bias) using deep learning:  -8.492166\n",
      "Intercept (bias) using sklearn:        -8.492231\n"
     ]
    }
   ],
   "source": [
    "print('weights using deep learning:          ',model_lr.get_weights()[0][:,0])\n",
    "print('weights from sklearn:                 ',res.coef_)\n",
    "print('Intercept (bias) using deep learning: ',model_lr.get_weights()[1][0])\n",
    "print('Intercept (bias) using sklearn:       ',res.intercept_)"
   ]
  },
  {
   "cell_type": "markdown",
   "metadata": {
    "colab_type": "text",
    "id": "scvDQ-mg1Y5r"
   },
   "source": [
    "Let's plot the observed values vs the predicted mean of caught fish on the test dataset. To inicate the CPD you also plot  the 2.5% and 97.5% percentiles of the predicted CPD. You highlight the observations 31 and 33."
   ]
  },
  {
   "cell_type": "code",
   "execution_count": 20,
   "metadata": {
    "colab": {
     "base_uri": "https://localhost:8080/",
     "height": 472
    },
    "colab_type": "code",
    "id": "FlzxWOQT1Y5u",
    "outputId": "f4b85a59-aefa-463b-8aa3-493d731ca4fa"
   },
   "outputs": [
    {
     "data": {
      "image/png": "[encoded data removed]",
      "text/plain": [
       "<Figure size 432x288 with 1 Axes>"
      ]
     },
     "metadata": {
      "needs_background": "light"
     },
     "output_type": "display_data"
    }
   ],
   "source": [
    "y_hat_test=model_lr.predict(X_test)\n",
    "plt.scatter(y_hat_test, y_test,alpha=0.3)\n",
    "plt.scatter(y_hat_test[33], y_test[33],c=\"orange\",marker='o',edgecolors= \"black\")\n",
    "plt.scatter(y_hat_test[31], y_test[31],c=\"orange\",marker='o',edgecolors= \"black\")\n",
    "sort_idx=np.argsort(y_hat_test,axis=0)\n",
    "plt.plot(y_hat_test[sort_idx].flatten(), y_hat_test[sort_idx].flatten()+2*np.sqrt(sigma_hat_2),linestyle='dashed',c=\"black\")\n",
    "plt.plot(y_hat_test[sort_idx].flatten(), y_hat_test[sort_idx].flatten()-2*np.sqrt(sigma_hat_2),linestyle='dashed',c=\"black\")\n",
    "plt.plot(y_hat_test, y_hat_test, c=\"black\")\n",
    "plt.title('Comparison on the testset')\n",
    "plt.xlabel('predicted average of caught fish')\n",
    "plt.ylabel('observed number of caught fish')\n",
    "plt.show()\n",
    "#plt.savefig(\"camper_lr.pdf\")\n",
    "#from google.colab import files\n",
    "#files.download('camper_lr.pdf') "
   ]
  },
  {
   "cell_type": "code",
   "execution_count": 21,
   "metadata": {
    "colab": {
     "base_uri": "https://localhost:8080/",
     "height": 88
    },
    "colab_type": "code",
    "id": "shnjM81c1pEf",
    "outputId": "71e8995e-ce0f-44ab-f359-978f24105484"
   },
   "outputs": [
    {
     "name": "stdout",
     "output_type": "stream",
     "text": [
      "[10.070827]\n",
      "[1.6449347]\n",
      "5.0\n",
      "0.0\n"
     ]
    }
   ],
   "source": [
    "# Let's check the mean of the predicted CPDs for the obeservations nr 31 and 33\n",
    "print(y_hat_test[31])\n",
    "print(y_hat_test[33])\n",
    "# Remember the observed nr of caught fish for the obeservations nr 31 and 33\n",
    "print(y_test[31])\n",
    "print(y_test[33])"
   ]
  },
  {
   "cell_type": "markdown",
   "metadata": {
    "colab_type": "text",
    "id": "Y9R790TuTw-9"
   },
   "source": [
    "Lets check the predicted outcome distribution for the observations 31 and 33."
   ]
  },
  {
   "cell_type": "code",
   "execution_count": 22,
   "metadata": {
    "colab": {
     "base_uri": "https://localhost:8080/",
     "height": 564
    },
    "colab_type": "code",
    "id": "bUzQHcEh2fy2",
    "outputId": "a312e8ed-605a-4342-e0a1-f84287aed95a"
   },
   "outputs": [
    {
     "data": {
      "image/png": "[encoded data removed]",
      "text/plain": [
       "<Figure size 1008x432 with 2 Axes>"
      ]
     },
     "metadata": {
      "needs_background": "light"
     },
     "output_type": "display_data"
    }
   ],
   "source": [
    "dist = tfd.Normal(loc=y_hat_test,scale=np.sqrt(sigma_hat_2,dtype=\"float32\"))\n",
    "plt.figure(figsize=(14,6))\n",
    "plt.subplot(1,2,1)\n",
    "plt.plot(np.arange(-40,40,0.1),dist.prob(np.arange(-40,40,0.1))[31])\n",
    "plt.vlines(y_hat_test[31], ymin=0, ymax=dist.prob(y_hat_test)[31],linestyle='dashed')\n",
    "plt.vlines(np.expand_dims(y_test,axis=1)[31], ymin=0, ymax=dist.prob(np.expand_dims(y_test,axis=1))[31],linestyle='dotted',color=\"purple\",linewidth=2)\n",
    "plt.xlabel('Number of Events')\n",
    "plt.ylabel('Probability density')\n",
    "plt.title('Test observation 31, observed fish=5')\n",
    "\n",
    "plt.subplot(1,2,2)\n",
    "plt.plot(np.arange(-40,40,0.1),dist.prob(np.arange(-40,40,0.1))[33])\n",
    "plt.vlines(y_hat_test[33], ymin=0, ymax=dist.prob(y_hat_test)[33],linestyle='dashed')\n",
    "plt.vlines(np.expand_dims(y_test,axis=1)[33], ymin=0, ymax=dist.prob(np.expand_dims(y_test,axis=1))[33],linestyle='dotted',color=\"purple\",linewidth=2)\n",
    "plt.xlabel('Number of Events')\n",
    "plt.ylabel('Probability density')\n",
    "plt.title('Test observation 33, observed fish=0')\n",
    "plt.show()\n",
    "#plt.savefig(\"5.gauss.dist.pdf\")\n",
    "#from google.colab import files\n",
    "#files.download('5.gauss.dist.pdf')"
   ]
  },
  {
   "cell_type": "markdown",
   "metadata": {
    "colab_type": "text",
    "id": "UQQlDYPt1Y5_"
   },
   "source": [
    "You can see that the liklihood of the observed values are quite high under the predicted CPDs (dotted line). However, note that the linear model predicts also negative values, which is obviously wrong. "
   ]
  },
  {
   "cell_type": "markdown",
   "metadata": {
    "colab_type": "text",
    "id": "RC5yQ6Na1Y6u"
   },
   "source": [
    "## Poisson Regression \n",
    "\n",
    "Now you use  the TFP framework and the Poission distribution to model the output of the network as a Poissonian CPD. You will not use any hidden layers in between and the loss will be the NLL. After the fitting, you predict the test data and compare the performance with the linear regression model.\n",
    "$$\n",
    "    Y \\thicksim \\tt{Pois}(exp(w^{T} \\cdot x + b))\n",
    "$$\n",
    "\n",
    "#### Listing 5.6: Simple Poisson regression for the number of fish caught \n"
   ]
  },
  {
   "cell_type": "code",
   "execution_count": 23,
   "metadata": {
    "colab": {
     "base_uri": "https://localhost:8080/",
     "height": 266
    },
    "colab_type": "code",
    "id": "c1D6mfOl1Y6w",
    "outputId": "619fe60f-6194-4067-a95b-a9267ce0d47f"
   },
   "outputs": [
    {
     "name": "stdout",
     "output_type": "stream",
     "text": [
      "Model: \"model\"\n",
      "_________________________________________________________________\n",
      "Layer (type)                 Output Shape              Param #   \n",
      "=================================================================\n",
      "input_1 (InputLayer)         [(None, 4)]               0         \n",
      "_________________________________________________________________\n",
      "dense_1 (Dense)              (None, 1)                 5         \n",
      "_________________________________________________________________\n",
      "distribution_lambda (Distrib ((None, 1), (None, 1))    0         \n",
      "=================================================================\n",
      "Total params: 5\n",
      "Trainable params: 5\n",
      "Non-trainable params: 0\n",
      "_________________________________________________________________\n"
     ]
    }
   ],
   "source": [
    "inputs = Input(shape=(X_train.shape[1],))  \n",
    "rate = Dense(1, \n",
    "         activation=tf.exp)(inputs) #A\n",
    "p_y = tfp.layers.DistributionLambda(tfd.Poisson)(rate) #B \n",
    "\n",
    "model_p = Model(inputs=inputs, outputs=p_y) #C\n",
    "\n",
    "\n",
    "def NLL(y_true, y_hat): #D\n",
    "  return -y_hat.log_prob(y_true)\n",
    "\n",
    "model_p.compile(Adam(learning_rate=0.01), loss=NLL)\n",
    "model_p.summary()\n",
    "\n",
    "#A Definition of a single layer with one output\n",
    "#B We use exponential of the output to model the rate\n",
    "#C Glueing the NN and the output layer together. Note that output p_y is a tf.distribution\n",
    "#D The second argument is the output of the model and thus a tfp-distribution. It's as simple as calling log_prob to calculate the log-probability of the observation that is needed to calculate the NLL."
   ]
  },
  {
   "cell_type": "code",
   "execution_count": 24,
   "metadata": {
    "colab": {},
    "colab_type": "code",
    "id": "kheyBbO_1Y6-"
   },
   "outputs": [],
   "source": [
    "hist_p = model_p.fit(x=X_train, y=y_train, validation_data=(X_test, y_test), epochs=2000, verbose=0)"
   ]
  },
  {
   "cell_type": "code",
   "execution_count": 25,
   "metadata": {
    "colab": {
     "base_uri": "https://localhost:8080/",
     "height": 449
    },
    "colab_type": "code",
    "id": "kSO3GedG1Y7I",
    "outputId": "8437e0b6-e691-48fc-a0eb-4d4b83fa1601",
    "scrolled": true
   },
   "outputs": [
    {
     "data": {
      "image/png": "[encoded data removed]",
      "text/plain": [
       "<Figure size 432x288 with 1 Axes>"
      ]
     },
     "metadata": {
      "needs_background": "light"
     },
     "output_type": "display_data"
    }
   ],
   "source": [
    "plt.plot(hist_p.history['loss'])\n",
    "plt.plot(hist_p.history['val_loss'])\n",
    "plt.legend(['loss', 'val_loss'])\n",
    "plt.xlabel('Epochs')\n",
    "plt.show()"
   ]
  },
  {
   "cell_type": "markdown",
   "metadata": {
    "colab_type": "text",
    "id": "3koDxrd5V_KJ"
   },
   "source": [
    "#### Evaluation of the Performance \n"
   ]
  },
  {
   "cell_type": "code",
   "execution_count": 26,
   "metadata": {
    "colab": {
     "base_uri": "https://localhost:8080/",
     "height": 177
    },
    "colab_type": "code",
    "id": "oVjw2n-C1Y7P",
    "outputId": "ffdb0d96-7922-4864-f605-fff43a2bb50c"
   },
   "outputs": [
    {
     "name": "stdout",
     "output_type": "stream",
     "text": [
      "\r",
      "50/1 [============================================================================================================================================================================================================================================================================================================================================================================================================================================================================================================================================================================================================================================================================================================================================================================================================================================================================================================================================================================================================================================================================================================================================================================================================================================================================================================================================================================================================================================================================================================================================================] - 0s 73us/sample - loss: 3.6144\n"
     ]
    },
    {
     "data": {
      "text/html": [
       "<div>\n",
       "<style scoped>\n",
       "    .dataframe tbody tr th:only-of-type {\n",
       "        vertical-align: middle;\n",
       "    }\n",
       "\n",
       "    .dataframe tbody tr th {\n",
       "        vertical-align: top;\n",
       "    }\n",
       "\n",
       "    .dataframe thead th {\n",
       "        text-align: right;\n",
       "    }\n",
       "</style>\n",
       "<table border=\"1\" class=\"dataframe\">\n",
       "  <thead>\n",
       "    <tr style=\"text-align: right;\">\n",
       "      <th></th>\n",
       "      <th>RMSE</th>\n",
       "      <th>MAE</th>\n",
       "      <th>NLL (mean)</th>\n",
       "    </tr>\n",
       "  </thead>\n",
       "  <tbody>\n",
       "    <tr>\n",
       "      <th>Linear Regression (sklearn)</th>\n",
       "      <td>8.588127</td>\n",
       "      <td>4.705091</td>\n",
       "      <td>3.617528</td>\n",
       "    </tr>\n",
       "    <tr>\n",
       "      <th>Linear Regression (MSE Keras)</th>\n",
       "      <td>8.588128</td>\n",
       "      <td>4.705087</td>\n",
       "      <td>3.617528</td>\n",
       "    </tr>\n",
       "    <tr>\n",
       "      <th>Poisson Regression (TFP)</th>\n",
       "      <td>7.191673</td>\n",
       "      <td>3.117547</td>\n",
       "      <td>2.701041</td>\n",
       "    </tr>\n",
       "  </tbody>\n",
       "</table>\n",
       "</div>"
      ],
      "text/plain": [
       "                                   RMSE       MAE  NLL (mean)\n",
       "Linear Regression (sklearn)    8.588127  4.705091    3.617528\n",
       "Linear Regression (MSE Keras)  8.588128  4.705087    3.617528\n",
       "Poisson Regression (TFP)       7.191673  3.117547    2.701041"
      ]
     },
     "execution_count": 26,
     "metadata": {},
     "output_type": "execute_result"
    }
   ],
   "source": [
    "model = Model(inputs=inputs, outputs=p_y.mean()) \n",
    "y_hat_test = model.predict(X_test).flatten()\n",
    "\n",
    "\n",
    "rmse=np.sqrt(np.mean((y_test - y_hat_test)**2))\n",
    "mae=np.mean(np.abs(y_test - y_hat_test)) \n",
    "\n",
    "NLL = model_p.evaluate(X_test, y_test) #returns the NLL \n",
    "\n",
    "df3 = pd.DataFrame(\n",
    "         { 'RMSE' : rmse, 'MAE' : mae, 'NLL (mean)' : NLL}, index=['Poisson Regression (TFP)']\n",
    ")\n",
    "pd.concat([df1,df2,df3])"
   ]
  },
  {
   "cell_type": "markdown",
   "metadata": {
    "colab_type": "text",
    "id": "vWa4RKhaVVAX"
   },
   "source": [
    "In the pandas dataframe above you see that the RMSE, MAE and the NLL of the diferent models. You see that the Poisson regression outperform the linear regression because of the lower NLL."
   ]
  },
  {
   "cell_type": "markdown",
   "metadata": {
    "colab_type": "text",
    "id": "mmdYk1eLWFaN"
   },
   "source": [
    "Let's plot the observed values vs the predicted mean of caught fish on the test dataset. To inicate the CPD you also plot  the 2.5% and 97.5% percentiles of the predicted CPD. You highlight the observations 31 and 33."
   ]
  },
  {
   "cell_type": "code",
   "execution_count": 27,
   "metadata": {
    "colab": {
     "base_uri": "https://localhost:8080/",
     "height": 564
    },
    "colab_type": "code",
    "id": "ddqrjcSb1Y7T",
    "outputId": "aa65a562-7d4f-49eb-e193-590e398b2182",
    "scrolled": true
   },
   "outputs": [
    {
     "data": {
      "image/png": "[encoded data removed]",
      "text/plain": [
       "<Figure size 864x432 with 2 Axes>"
      ]
     },
     "metadata": {
      "needs_background": "light"
     },
     "output_type": "display_data"
    }
   ],
   "source": [
    "from scipy.stats import poisson\n",
    "lower=poisson.ppf(0.025, y_hat_test)\n",
    "upper=poisson.ppf(0.975, y_hat_test)\n",
    "\n",
    "plt.figure(figsize=(12,6))\n",
    "plt.subplot(1,2,1)\n",
    "plt.scatter(y_hat_test, y_test, alpha=0.3)\n",
    "plt.scatter(y_hat_test[33], y_test[33],c=\"orange\",marker='o',edgecolors= \"black\")\n",
    "plt.scatter(y_hat_test[31], y_test[31],c=\"orange\",marker='o',edgecolors= \"black\")\n",
    "plt.title('Comparison on the testset')\n",
    "plt.xlabel('predicted average of caught fish')\n",
    "plt.ylabel('observed number of caught fish')\n",
    "plt.plot(y_hat_test[np.argsort(y_hat_test,axis=0)].flatten(), lower[np.argsort(y_hat_test,axis=0)],linestyle='dashed',c=\"black\")\n",
    "plt.plot(y_hat_test[np.argsort(y_hat_test,axis=0)].flatten(), upper[np.argsort(y_hat_test,axis=0)],linestyle='dashed',c=\"black\")\n",
    "plt.plot(y_hat_test, y_hat_test, c=\"black\")\n",
    "\n",
    "\n",
    "plt.subplot(1,2,2)\n",
    "plt.scatter(y_hat_test, y_test, alpha=0.3)\n",
    "plt.scatter(y_hat_test[33], y_test[33],c=\"orange\",marker='o',edgecolors= \"black\")\n",
    "plt.scatter(y_hat_test[31], y_test[31],c=\"orange\",marker='o',edgecolors= \"black\")\n",
    "plt.title('Zoomed comparison on the testset')\n",
    "plt.xlabel('predicted average of caught fish')\n",
    "plt.ylabel('observed number of caught fish')\n",
    "plt.plot(y_hat_test[np.argsort(y_hat_test,axis=0)].flatten(), lower[np.argsort(y_hat_test,axis=0)],linestyle='dashed',c=\"black\")\n",
    "plt.plot(y_hat_test[np.argsort(y_hat_test,axis=0)].flatten(), upper[np.argsort(y_hat_test,axis=0)],linestyle='dashed',c=\"black\")\n",
    "plt.plot(y_hat_test, y_hat_test, c=\"black\")\n",
    "plt.xlim([-0.5,6])\n",
    "plt.ylim([-0.5,6])\n",
    "#plt.savefig(\"camper_pois.pdf\")\n",
    "#from google.colab import files\n",
    "#files.download('camper_pois.pdf')\n",
    "plt.show()"
   ]
  },
  {
   "cell_type": "code",
   "execution_count": 28,
   "metadata": {
    "colab": {
     "base_uri": "https://localhost:8080/",
     "height": 88
    },
    "colab_type": "code",
    "id": "T_5JwyCQWdWm",
    "outputId": "9cf8eeaa-c6e2-44c3-894f-8844f3f32f18"
   },
   "outputs": [
    {
     "name": "stdout",
     "output_type": "stream",
     "text": [
      "5.561949\n",
      "0.54717374\n",
      "5.0\n",
      "0.0\n"
     ]
    }
   ],
   "source": [
    "# Let's check the mean of the predicted CPDs for the obeservations nr 31 and 33\n",
    "print(y_hat_test[31])\n",
    "print(y_hat_test[33])\n",
    "# Remember the observed nr of caught fish for the obeservations nr 31 and 33\n",
    "print(y_test[31])\n",
    "print(y_test[33])"
   ]
  },
  {
   "cell_type": "markdown",
   "metadata": {
    "colab_type": "text",
    "id": "gHT2pj1kWp6c"
   },
   "source": [
    "Lets check the predicted outcome distribution for the observations 31 and 33."
   ]
  },
  {
   "cell_type": "code",
   "execution_count": 29,
   "metadata": {
    "colab": {
     "base_uri": "https://localhost:8080/",
     "height": 655
    },
    "colab_type": "code",
    "id": "3KdtKSlq6CDI",
    "outputId": "c6ea642c-1110-4a10-afa8-6eb3cd1f4800"
   },
   "outputs": [
    {
     "data": {
      "image/png": "[encoded data removed]",
      "text/plain": [
       "<Figure size 1008x432 with 2 Axes>"
      ]
     },
     "metadata": {
      "needs_background": "light"
     },
     "output_type": "display_data"
    }
   ],
   "source": [
    "probs=model_p(X_test).prob(np.arange(0,20,1)).numpy()\n",
    "plt.figure(figsize=(14,6))\n",
    "plt.subplot(1,2,1)\n",
    "plt.stem(np.arange(0,20,1),probs[31,:])\n",
    "plt.xticks(np.arange(0,20,1))\n",
    "plt.vlines(np.expand_dims(y_test,axis=1)[31], ymin=0, ymax=probs[31,np.int(y_test[31])],linestyle='dotted',color=\"purple\",linewidth=4)\n",
    "\n",
    "plt.xlabel('Number of Events')\n",
    "plt.ylabel('Probability')\n",
    "plt.title('Test observation 31, observed fish=5')\n",
    "\n",
    "plt.subplot(1,2,2)\n",
    "plt.stem(np.arange(0,20,1),probs[33,:])\n",
    "plt.xticks(np.arange(0,20,1))\n",
    "plt.vlines(np.expand_dims(y_test,axis=1)[33], ymin=0, ymax=probs[33,np.int(y_test[33])],linestyle='dotted',color=\"purple\",linewidth=4)\n",
    "plt.xlabel('Number of Events')\n",
    "plt.ylabel('Probability')\n",
    "plt.title('Test observation 33, observed fish=0')\n",
    "plt.show()\n",
    "#plt.savefig(\"pois_dist_31_33.pdf\")\n",
    "#from google.colab import files\n",
    "#files.download('pois_dist_31_33.pdf')"
   ]
  },
  {
   "cell_type": "markdown",
   "metadata": {
    "colab_type": "text",
    "id": "RP8y4gdz1Y7a"
   },
   "source": [
    "You can see that the liklihood of the observed values are quite high under the predicted CPDs (dotted line). Note that the Poisson CPD does only predict non-negative integer values which is a quite nice property for count data.\n",
    "\n",
    "\n",
    " "
   ]
  },
  {
   "cell_type": "markdown",
   "metadata": {
    "colab_type": "text",
    "id": "qQY2rCxQuHfG"
   },
   "source": [
    "### Return to the book \n",
    "<img src=\"https://raw.githubusercontent.com/tensorchiefs/dl_book/master/imgs/Page_turn_icon_A.png\" width=\"120\" align=\"left\" />  \n",
    "Return to the book to learn about zero inflated Poisson Regression."
   ]
  },
  {
   "cell_type": "markdown",
   "metadata": {
    "colab_type": "text",
    "id": "PJWH_iYP1Y7a"
   },
   "source": [
    "## Zero inflated Poisson Regression \n",
    "\n",
    "You saw that there are a lot of unlucky groups that did not catch any fish at all. You will now define a model with two outputs, one for the poisson mean and one for the probability that zero fish were caught. This is the so called zero-inflated Poisson distribution. You use the TFP framework to create a mixture two processes: a Poission process and a zero generating process. You will not use any hidden layers in between and the loss will be the NLL. After the fitting, you predict the test data and compare the performance with the other models.\n",
    "\n"
   ]
  },
  {
   "cell_type": "markdown",
   "metadata": {
    "colab_type": "text",
    "id": "dWyekfiA9lxG"
   },
   "source": [
    "The ZIP distribution needs two parameters:\n",
    "* rate: which defines the rate $\\lambda$ of a Poisson process\n",
    "* s: the probability to pick Poisson process (accordingly the zero-generating process is picked with probability 1-s)\n",
    "\n",
    "#### Listing 5.7: Custom Distribution for a zero inflated Poisson distribution \n"
   ]
  },
  {
   "cell_type": "code",
   "execution_count": 43,
   "metadata": {
    "colab": {},
    "colab_type": "code",
    "id": "s9tYvDbj1Y7b"
   },
   "outputs": [
    {
     "name": "stdout",
     "output_type": "stream",
     "text": [
      "float64\n"
     ]
    }
   ],
   "source": [
    "def zero_inf(out): \n",
    "    rate = tf.squeeze(tf.math.exp(out[:,0:1])) #A \n",
    "    s = tf.math.sigmoid(out[:,1:2]) #B  \n",
    "    probs = tf.concat([1-s, s], axis=1) #C \n",
    "    return tfd.Mixture(\n",
    "          cat=tfd.Categorical(probs=probs),#D\n",
    "          components=[\n",
    "          tfd.Deterministic(loc=tf.zeros_like(rate)), #E\n",
    "          tfd.Poisson(rate=rate), #F \n",
    "        ])\n",
    "\n",
    "out = t\n",
    "rate = tf.squeeze(tf.math.exp(out[:,0:1])) #A \n",
    "s = tf.math.sigmoid(out[:,1:2]) #B  \n",
    "probs = tf.concat([1-s, s], axis=1) #C \n",
    "#A The first component codes for the rate. We used exponential to guaranty values > 0. We also used the squeeze function to flatten the tensor.\n",
    "#B The second component codes for zero inflation; using the sigmoid squeezes the value between 0 and 1.\n",
    "#C The two probabilities for 0’s or Poissonian distribution \n",
    "#D tfd.Categorical allows creating a mixture of two components. \n",
    "#E Zero as a deterministic value \n",
    "#F Value drawn from a Poissonian distribution\n",
    "steps=10\n",
    "loss_values = np.zeros((steps))\n",
    "print(loss_values.dtype)"
   ]
  },
  {
   "cell_type": "markdown",
   "metadata": {
    "colab_type": "text",
    "id": "2dxIHn1UkwHp"
   },
   "source": [
    "In the next cell you can check if the ZIP distribution is working. As you can see in the code above, the zero_inf distribution takes two values as input. The first value controls the rate of the Poisson distribution and the second value controls the probability to pick the Poisson process. Both values can be negative or positive. To guarantee that the rate is a positive number, we transform the first argument with the exp() function.To guarantee that the probability s is a number between zero and one, we transform the second argument with the sigmoid() function.  \n",
    "\n",
    "If the first argument is 1 then the rate of the Poisson process is exp(1) ~ 2.7. If the second argument is 10 then the probability to pick the Poisson process is sigmoid(10) ~ 0.9999. Accordingly, if the input to the zero_inf() distribution is 1 and 10, we would expect that we almost always take the Poisson process which has a rate parameter of ~ 2.7.  \n",
    "\n",
    "If the input to the zero_inf() distribution is 1 and -10, we would expect that we almost always pick the zero-generating process. \n",
    "  \n",
    "In the following cell you can check that the zero_inf function works as expected. It is also possible to sample from the distribution or calculate the mean."
   ]
  },
  {
   "cell_type": "code",
   "execution_count": 34,
   "metadata": {
    "colab": {
     "base_uri": "https://localhost:8080/",
     "height": 159
    },
    "colab_type": "code",
    "id": "0cObilkk1Y7g",
    "outputId": "e410ada6-33dd-43f1-b186-6521a6c9bf58"
   },
   "outputs": [
    {
     "name": "stdout",
     "output_type": "stream",
     "text": [
      "rate of the poissonian : 2.7182817\n",
      "probability to pick the poisson process : 0.9999546\n",
      "probability to pick the poisson process : 4.5397872e-05\n",
      "Input Tensor : \n",
      "[[  1.  10.]\n",
      " [  1. -10.]]\n",
      "(2, 2)\n",
      "Output Mean  :  [2.7181582e+00 1.2340420e-04]\n",
      "Output Sample  :  [4. 0.]\n"
     ]
    }
   ],
   "source": [
    "## testinging the distribution, we evalute some data \n",
    "\n",
    "print(\"rate of the poissonian :\", tf.exp(1.0).numpy())\n",
    "print(\"probability to pick the poisson process :\" ,tf.math.sigmoid(10.0).numpy())\n",
    "print(\"probability to pick the poisson process :\" ,tf.math.sigmoid(-10.0).numpy())\n",
    "\n",
    "\n",
    "t = np.ones((2,2), dtype=np.float32)\n",
    "t[0,0] = 1\n",
    "t[0,1] = 10#almost always take pois \n",
    "t[1,0] = 1\n",
    "t[1,1] = -10# almost always take zero\n",
    "#t = tf.cast(t, dtype=\"float32\")\n",
    "print('Input Tensor : ')\n",
    "print(t)\n",
    "print(t.shape)\n",
    "print('Output Mean  : ',zero_inf(t).mean().numpy())\n",
    "print('Output Sample  : ',zero_inf(t).sample().numpy())"
   ]
  },
  {
   "cell_type": "markdown",
   "metadata": {
    "colab_type": "text",
    "id": "iNVLvmqF4jgL"
   },
   "source": [
    "Here you define the network and use the zero_inf distribution.\n",
    "\n",
    "#### Listing 5.8: NN in front of a zero inflated Poisson distribution \n"
   ]
  },
  {
   "cell_type": "code",
   "execution_count": 37,
   "metadata": {
    "colab": {
     "base_uri": "https://localhost:8080/",
     "height": 266
    },
    "colab_type": "code",
    "id": "IhkJUDNW1Y7m",
    "outputId": "5e6283d5-77d1-424b-9b53-262dbf03f077"
   },
   "outputs": [
    {
     "name": "stdout",
     "output_type": "stream",
     "text": [
      "Model: \"model_2\"\n",
      "_________________________________________________________________\n",
      "Layer (type)                 Output Shape              Param #   \n",
      "=================================================================\n",
      "input_2 (InputLayer)         [(None, 4)]               0         \n",
      "_________________________________________________________________\n",
      "dense_2 (Dense)              (None, 2)                 10        \n",
      "_________________________________________________________________\n",
      "distribution_lambda_1 (Distr ((None,), (None,))        0         \n",
      "=================================================================\n",
      "Total params: 10\n",
      "Trainable params: 10\n",
      "Non-trainable params: 0\n",
      "_________________________________________________________________\n"
     ]
    }
   ],
   "source": [
    "## Definition of the custom parametrized distribution\n",
    "inputs = tf.keras.layers.Input(shape=(X_train.shape[1],))  \n",
    "out = Dense(2)(inputs) #A\n",
    "p_y_zi = tfp.layers.DistributionLambda(zero_inf)(out)\n",
    "model_zi = Model(inputs=inputs, outputs=p_y_zi)\n",
    "\n",
    "#A A dense layer is used without activation. The transformation is done inside the zero_inf function\n",
    "model_zi.summary()"
   ]
  },
  {
   "cell_type": "markdown",
   "metadata": {
    "colab_type": "text",
    "id": "xVLRbGNg1Y7q"
   },
   "source": [
    "### Training of the model (by hand)with GradientTape [optional]\n",
    "\n",
    "The following code trains the NN using a evaluation loop by hand. This can help to find instabilities, See also: https://www.tensorflow.org/beta/guide/keras/training_and_evaluation#part_ii_writing_your_own_training_evaluation_loops_from_scratch\n"
   ]
  },
  {
   "cell_type": "code",
   "execution_count": 38,
   "metadata": {
    "colab": {
     "base_uri": "https://localhost:8080/",
     "height": 195
    },
    "colab_type": "code",
    "id": "FQGr8xl-1Y7r",
    "outputId": "4fcc7875-8c23-49d7-9740-a6951e22508d"
   },
   "outputs": [
    {
     "name": "stdout",
     "output_type": "stream",
     "text": [
      "tf.Tensor(15.151436, shape=(), dtype=float32)\n",
      "tf.Tensor(14.036582, shape=(), dtype=float32)\n",
      "tf.Tensor(12.944097, shape=(), dtype=float32)\n",
      "tf.Tensor(11.881076, shape=(), dtype=float32)\n",
      "tf.Tensor(10.856716, shape=(), dtype=float32)\n",
      "tf.Tensor(9.882824, shape=(), dtype=float32)\n",
      "tf.Tensor(8.974606, shape=(), dtype=float32)\n",
      "tf.Tensor(8.15151, shape=(), dtype=float32)\n",
      "tf.Tensor(7.437125, shape=(), dtype=float32)\n",
      "tf.Tensor(6.8559933, shape=(), dtype=float32)\n"
     ]
    }
   ],
   "source": [
    "optimizer=tf.optimizers.Adam(learning_rate=0.05)\n",
    "steps=10\n",
    "loss_values = np.zeros((steps))\n",
    "for e in range(steps):\n",
    "    with tf.GradientTape() as tape:\n",
    "        y_hat = model_zi(X_train)\n",
    "        loss_value = -tf.reduce_mean(y_hat.log_prob(y_train))\n",
    "        loss_values[e] = loss_value\n",
    "        grads = tape.gradient(loss_value, model_zi.trainable_weights)\n",
    "        weights =  model_zi.trainable_weights       \n",
    "        optimizer.apply_gradients(zip(grads,weights))\n",
    "        print(loss_value)"
   ]
  },
  {
   "cell_type": "markdown",
   "metadata": {
    "colab_type": "text",
    "id": "LjpdKTYq1Y7t"
   },
   "source": [
    "### Training using keras"
   ]
  },
  {
   "cell_type": "code",
   "execution_count": 32,
   "metadata": {
    "colab": {},
    "colab_type": "code",
    "id": "QbmF_D-p1Y7u"
   },
   "outputs": [],
   "source": [
    "def NLL(y_true, y_hat):\n",
    "    return -y_hat.log_prob(tf.reshape(y_true,(-1,)))\n",
    "\n",
    "model_zi.compile(optimizer=tf.optimizers.Adam(learning_rate=0.01), loss=NLL)\n",
    "hist_zi = model_zi.fit(x=X_train, y=y_train, validation_data=(X_test, y_test), epochs=2000, verbose=0)"
   ]
  },
  {
   "cell_type": "code",
   "execution_count": 33,
   "metadata": {
    "colab": {
     "base_uri": "https://localhost:8080/",
     "height": 542
    },
    "colab_type": "code",
    "id": "BTrC-2dzW8_-",
    "outputId": "f097f15f-d27f-483d-a2a0-c093f383bb9e"
   },
   "outputs": [
    {
     "data": {
      "image/png": "[encoded data removed]",
      "text/plain": [
       "<Figure size 864x432 with 2 Axes>"
      ]
     },
     "metadata": {
      "needs_background": "light"
     },
     "output_type": "display_data"
    }
   ],
   "source": [
    "plt.figure(figsize=(12,6))\n",
    "plt.subplot(1,2,1)\n",
    "plt.plot(hist_zi.history['loss'])\n",
    "plt.plot(hist_zi.history['val_loss'])\n",
    "plt.legend(['ZI loss','ZI val_loss'])\n",
    "plt.xlabel('Epochs')\n",
    "plt.ylabel('NLL')\n",
    "plt.subplot(1,2,2)\n",
    "plt.plot(hist_p.history['loss'],linestyle='-.')\n",
    "plt.plot(hist_p.history['val_loss'])\n",
    "plt.plot(hist_zi.history['loss'])\n",
    "plt.plot(hist_zi.history['val_loss'])\n",
    "plt.legend(['Poisson loss','Poisson val_loss','ZI loss','ZI val_loss'])\n",
    "plt.xlabel('Epochs')\n",
    "plt.ylabel('NLL')\n",
    "plt.show()"
   ]
  },
  {
   "cell_type": "markdown",
   "metadata": {
    "colab_type": "text",
    "id": "YLquO2M5Y_gX"
   },
   "source": [
    "#### Evaluation of the Performance \n"
   ]
  },
  {
   "cell_type": "code",
   "execution_count": 34,
   "metadata": {
    "colab": {
     "base_uri": "https://localhost:8080/",
     "height": 207
    },
    "colab_type": "code",
    "id": "dwM1es891Y74",
    "outputId": "2716dab9-dc09-40da-a51f-3499355da3ec"
   },
   "outputs": [
    {
     "name": "stdout",
     "output_type": "stream",
     "text": [
      "\r",
      "50/1 [============================================================================================================================================================================================================================================================================================================================================================================================================================================================================================================================================================================================================================================================================================================================================================================================================================================================================================================================================================================================================================================================================================================================================================================================================================================================================================================================================================================================================================================================================================================================================================] - 0s 74us/sample - loss: 3.0305\n"
     ]
    },
    {
     "data": {
      "text/html": [
       "<div>\n",
       "<style scoped>\n",
       "    .dataframe tbody tr th:only-of-type {\n",
       "        vertical-align: middle;\n",
       "    }\n",
       "\n",
       "    .dataframe tbody tr th {\n",
       "        vertical-align: top;\n",
       "    }\n",
       "\n",
       "    .dataframe thead th {\n",
       "        text-align: right;\n",
       "    }\n",
       "</style>\n",
       "<table border=\"1\" class=\"dataframe\">\n",
       "  <thead>\n",
       "    <tr style=\"text-align: right;\">\n",
       "      <th></th>\n",
       "      <th>RMSE</th>\n",
       "      <th>MAE</th>\n",
       "      <th>NLL (mean)</th>\n",
       "    </tr>\n",
       "  </thead>\n",
       "  <tbody>\n",
       "    <tr>\n",
       "      <th>Linear Regression (sklearn)</th>\n",
       "      <td>8.588127</td>\n",
       "      <td>4.705091</td>\n",
       "      <td>3.617528</td>\n",
       "    </tr>\n",
       "    <tr>\n",
       "      <th>Linear Regression (MSE Keras)</th>\n",
       "      <td>8.588128</td>\n",
       "      <td>4.705087</td>\n",
       "      <td>3.617528</td>\n",
       "    </tr>\n",
       "    <tr>\n",
       "      <th>Poisson Regression (TFP)</th>\n",
       "      <td>7.191673</td>\n",
       "      <td>3.117547</td>\n",
       "      <td>2.701041</td>\n",
       "    </tr>\n",
       "    <tr>\n",
       "      <th>ZIP (TFP)</th>\n",
       "      <td>7.333477</td>\n",
       "      <td>3.166622</td>\n",
       "      <td>2.242573</td>\n",
       "    </tr>\n",
       "  </tbody>\n",
       "</table>\n",
       "</div>"
      ],
      "text/plain": [
       "                                   RMSE       MAE  NLL (mean)\n",
       "Linear Regression (sklearn)    8.588127  4.705091    3.617528\n",
       "Linear Regression (MSE Keras)  8.588128  4.705087    3.617528\n",
       "Poisson Regression (TFP)       7.191673  3.117547    2.701041\n",
       "ZIP (TFP)                      7.333477  3.166622    2.242573"
      ]
     },
     "execution_count": 34,
     "metadata": {},
     "output_type": "execute_result"
    }
   ],
   "source": [
    "model = Model(inputs=inputs, outputs=p_y_zi.mean()) \n",
    "y_hat_test = model.predict(X_test).flatten()\n",
    "\n",
    "\n",
    "mse=np.sqrt(np.mean((y_test - y_hat_test)**2))\n",
    "mae=np.mean(np.abs(y_test - y_hat_test)) \n",
    "\n",
    "NLL = model_zi.evaluate(X_test, y_test) #returns the NLL \n",
    "\n",
    "\n",
    "df4 = pd.DataFrame(\n",
    "         { 'RMSE' : mse, 'MAE' : mae, 'NLL (mean)' : NLL}, index=['ZIP (TFP)']\n",
    ")\n",
    "pd.concat([df1,df2,df3,df4])"
   ]
  },
  {
   "cell_type": "markdown",
   "metadata": {
    "colab_type": "text",
    "id": "LzEnO51Pm2BI"
   },
   "source": [
    "In the pandas dataframe above you see that the RMSE, MAE and the NLL of the diferent models. You see that the ZIP regression outperforms the Poisson and the Linear regression models  because of the lower NLL."
   ]
  },
  {
   "cell_type": "markdown",
   "metadata": {
    "colab_type": "text",
    "id": "vgdfkpZynPwm"
   },
   "source": [
    "Let's plot the observed values vs the predicted mean of caught fish on the test dataset. To inicate the CPD you also plot  the 2.5% and 97.5% percentiles of the predicted CPD. You highlight the observations 31 and 33."
   ]
  },
  {
   "cell_type": "code",
   "execution_count": 46,
   "metadata": {},
   "outputs": [
    {
     "name": "stdout",
     "output_type": "stream",
     "text": [
      "(5000, 50)\n",
      "(50,)\n",
      "(50,)\n"
     ]
    }
   ],
   "source": [
    "samples=model_zi(X_test).sample(5000).numpy()\n",
    "lower=np.quantile(samples,0.025,axis=0)\n",
    "upper=np.quantile(samples,0.975,axis=0)\n",
    "print(samples.shape)\n",
    "print(lower.shape)\n",
    "print(upper.shape)"
   ]
  },
  {
   "cell_type": "code",
   "execution_count": 35,
   "metadata": {
    "colab": {
     "base_uri": "https://localhost:8080/",
     "height": 564
    },
    "colab_type": "code",
    "id": "3Sc175du1Y79",
    "outputId": "fc18e959-b944-45c5-d6cb-c742878ffa7f"
   },
   "outputs": [
    {
     "data": {
      "image/png": "[encoded data removed]",
      "text/plain": [
       "<Figure size 864x432 with 2 Axes>"
      ]
     },
     "metadata": {
      "needs_background": "light"
     },
     "output_type": "display_data"
    }
   ],
   "source": [
    "samples=model_zi(X_test).sample(5000).numpy()\n",
    "lower=np.quantile(samples,0.025,axis=0)\n",
    "upper=np.quantile(samples,0.975,axis=0)\n",
    "\n",
    "plt.figure(figsize=(12,6))\n",
    "plt.subplot(1,2,1)\n",
    "plt.scatter(y_hat_test, y_test, alpha=0.3)\n",
    "plt.scatter(y_hat_test[33], y_test[33],c=\"orange\",marker='o',edgecolors= \"black\")\n",
    "plt.scatter(y_hat_test[31], y_test[31],c=\"orange\",marker='o',edgecolors= \"black\")\n",
    "\n",
    "plt.title('Comparison on the testset')\n",
    "plt.xlabel('predicted average of caught fish')\n",
    "plt.ylabel('observed number of caught fish')\n",
    "plt.plot(y_hat_test[np.argsort(y_hat_test,axis=0)].flatten(), lower[np.argsort(y_hat_test,axis=0)],linestyle='dashed',c=\"black\")\n",
    "plt.plot(y_hat_test[np.argsort(y_hat_test,axis=0)].flatten(), upper[np.argsort(y_hat_test,axis=0)],linestyle='dashed',c=\"black\")\n",
    "plt.plot(y_hat_test, y_hat_test, c=\"black\")\n",
    "\n",
    "\n",
    "plt.subplot(1,2,2)\n",
    "plt.scatter(y_hat_test, y_test, alpha=0.3)\n",
    "plt.scatter(y_hat_test[33], y_test[33],c=\"orange\",marker='o',edgecolors= \"black\")\n",
    "plt.scatter(y_hat_test[31], y_test[31],c=\"orange\",marker='o',edgecolors= \"black\")\n",
    "\n",
    "plt.title('Zoomed comparison on the testset')\n",
    "plt.xlabel('predicted average of caught fish')\n",
    "plt.ylabel('observed number of caught fish')\n",
    "plt.plot(y_hat_test[np.argsort(y_hat_test,axis=0)].flatten(), lower[np.argsort(y_hat_test,axis=0)],linestyle='dashed',c=\"black\")\n",
    "plt.plot(y_hat_test[np.argsort(y_hat_test,axis=0)].flatten(), upper[np.argsort(y_hat_test,axis=0)],linestyle='dashed',c=\"black\")\n",
    "plt.plot(y_hat_test, y_hat_test, c=\"black\")\n",
    "plt.xlim([-0.5,6])\n",
    "plt.ylim([-0.5,6])\n",
    "\n",
    "\n",
    "#plt.savefig(\"camper_zipois.pdf\")\n",
    "#from google.colab import files\n",
    "#files.download('camper_zipois.pdf')\n",
    "plt.show()"
   ]
  },
  {
   "cell_type": "markdown",
   "metadata": {
    "colab_type": "text",
    "id": "GMCbYE29nroP"
   },
   "source": [
    "Compared to the Poisson model it is striking that the 2.5% percentile is zero over the whole range. This is due the zero-inflated process modeling a higher amount of zeros compared to the Poisson process."
   ]
  },
  {
   "cell_type": "code",
   "execution_count": 36,
   "metadata": {
    "colab": {
     "base_uri": "https://localhost:8080/",
     "height": 88
    },
    "colab_type": "code",
    "id": "0PwBywhEnaEc",
    "outputId": "74ba81cb-fe41-407b-cc60-b9ae6f570504"
   },
   "outputs": [
    {
     "name": "stdout",
     "output_type": "stream",
     "text": [
      "6.4639473\n",
      "0.30975696\n",
      "5.0\n",
      "0.0\n"
     ]
    }
   ],
   "source": [
    "# Let's check the mean of the predicted CPDs for the obeservations nr 31 and 33\n",
    "print(y_hat_test[31])\n",
    "print(y_hat_test[33])\n",
    "# Remember the observed nr of caught fish for the obeservations nr 31 and 33\n",
    "print(y_test[31])\n",
    "print(y_test[33])"
   ]
  },
  {
   "cell_type": "markdown",
   "metadata": {
    "colab_type": "text",
    "id": "L-gOH43vnj1G"
   },
   "source": [
    "Lets check the predicted outcome distribution for the observations 31 and 33."
   ]
  },
  {
   "cell_type": "code",
   "execution_count": 37,
   "metadata": {
    "colab": {
     "base_uri": "https://localhost:8080/",
     "height": 655
    },
    "colab_type": "code",
    "id": "2M1VM1bnwE5j",
    "outputId": "2cc589f7-361f-4941-edb4-cf79a17ce2ea"
   },
   "outputs": [
    {
     "name": "stderr",
     "output_type": "stream",
     "text": [
      "/usr/local/lib/python3.6/dist-packages/ipykernel_launcher.py:4: UserWarning: In Matplotlib 3.3 individual lines on a stem plot will be added as a LineCollection instead of individual lines. This significantly improves the performance of a stem plot. To remove this warning and switch to the new behaviour, set the \"use_line_collection\" keyword argument to True.\n",
      "  after removing the cwd from sys.path.\n",
      "/usr/local/lib/python3.6/dist-packages/ipykernel_launcher.py:12: UserWarning: In Matplotlib 3.3 individual lines on a stem plot will be added as a LineCollection instead of individual lines. This significantly improves the performance of a stem plot. To remove this warning and switch to the new behaviour, set the \"use_line_collection\" keyword argument to True.\n",
      "  if sys.path[0] == '':\n"
     ]
    },
    {
     "data": {
      "image/png": "[encoded data removed]",
      "text/plain": [
       "<Figure size 1008x432 with 2 Axes>"
      ]
     },
     "metadata": {
      "needs_background": "light"
     },
     "output_type": "display_data"
    }
   ],
   "source": [
    "probs=model_zi(X_test).prob(np.arange(0,20,1).reshape(20,1)).numpy()\n",
    "plt.figure(figsize=(14,6))\n",
    "plt.subplot(1,2,1)\n",
    "plt.stem(np.arange(0,20,1),probs[:,31])\n",
    "plt.vlines(np.expand_dims(y_test,axis=1)[31], ymin=0, ymax=probs[np.int(y_test[31]),31],linestyle='dotted',color=\"purple\",linewidth=4)\n",
    "plt.xticks(np.arange(0,20,1))\n",
    "plt.xlabel('Number of Events')\n",
    "plt.ylabel('Probability')\n",
    "plt.title('Test observation 31, observed fish=5')\n",
    "\n",
    "plt.subplot(1,2,2)\n",
    "plt.stem(np.arange(0,20,1),probs[:,33])\n",
    "plt.vlines(np.expand_dims(y_test,axis=1)[33], ymin=0, ymax=probs[np.int(y_test[33]),33],linestyle='dotted',color=\"purple\",linewidth=4)\n",
    "plt.xticks(np.arange(0,20,1))\n",
    "plt.xlabel('Number of Events')\n",
    "plt.ylabel('Probability')\n",
    "plt.title('Test observation 33, observed fish=0')\n",
    "plt.show()\n",
    "#plt.savefig(\"zip_dist_31_33.pdf\")\n",
    "#from google.colab import files\n",
    "#files.download('zip_dist_31_33.pdf')"
   ]
  },
  {
   "cell_type": "markdown",
   "metadata": {
    "colab_type": "text",
    "id": "Cb_VU8L3oZe1"
   },
   "source": [
    "You can see that the  predicted CPDs has a large peak at zero. This is due the zero-inflated process modeling a higher amount of zeros compared to the Poisson process.  \n",
    "You can see that the liklihood of the observed values are quite high under the predicted CPDs (dotted line). Note that the ZIP CPD does only predict non-negative integer values which is a quite nice property for count data.\n"
   ]
  },
  {
   "cell_type": "markdown",
   "metadata": {
    "colab_type": "text",
    "id": "vkWMUK151Y8A"
   },
   "source": [
    "Let's see what happens if you make more fisherman unlucky and remove randomly remove some catched. You can uncomment the lines in cell 6."
   ]
  },
  {
   "cell_type": "code",
   "execution_count": null,
   "metadata": {
    "colab": {},
    "colab_type": "code",
    "id": "qwxUFHulpE_l"
   },
   "outputs": [],
   "source": []
  }
 ],
 "metadata": {
  "colab": {
   "collapsed_sections": [
    "kzvS6_dEV7K2",
    "3koDxrd5V_KJ",
    "dWyekfiA9lxG",
    "iNVLvmqF4jgL",
    "YLquO2M5Y_gX"
   ],
   "name": "nb_ch05_02.ipynb",
   "provenance": []
  },
  "kernelspec": {
   "display_name": "Python 3",
   "language": "python",
   "name": "python3"
  },
  "language_info": {
   "codemirror_mode": {
    "name": "ipython",
    "version": 3
   },
   "file_extension": ".py",
   "mimetype": "text/x-python",
   "name": "python",
   "nbconvert_exporter": "python",
   "pygments_lexer": "ipython3",
   "version": "3.7.1"
  }
 },
 "nbformat": 4,
 "nbformat_minor": 1
}
